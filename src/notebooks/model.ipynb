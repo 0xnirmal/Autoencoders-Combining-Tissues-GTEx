{
 "cells": [
  {
   "cell_type": "markdown",
   "metadata": {},
   "source": [
    "## Model"
   ]
  },
  {
   "cell_type": "code",
   "execution_count": 1,
   "metadata": {
    "collapsed": true
   },
   "outputs": [],
   "source": [
    "import sys\n",
    "import pandas as pd\n",
    "import matplotlib.pyplot as plt\n",
    "import torch.utils.data\n",
    "from skimage import io, transform\n",
    "from skimage.measure import block_reduce\n",
    "import numpy as np\n",
    "import torch\n",
    "import torch.utils.data\n",
    "from torch.utils.data import DataLoader\n",
    "import torch.nn as nn\n",
    "import torch.nn.functional as F\n",
    "import torch.optim as optim\n",
    "from torch.autograd import Variable\n",
    "from torchvision import models, transforms\n",
    "import argparse"
   ]
  },
  {
   "cell_type": "code",
   "execution_count": 61,
   "metadata": {
    "collapsed": false
   },
   "outputs": [],
   "source": [
    "parser = argparse.ArgumentParser(description='Process display arguments')\n",
    "parser.add_argument(\"-f\", \"--jupyter-json\")\n",
    "parser.add_argument('--batch-size', type=int, default=8, metavar='B', help='input batch size for training (default: 64)')\n",
    "parser.add_argument('--test-batch-size', type=int, default=8, metavar='TB', help='input batch size for testing (default: 1000)')\n",
    "parser.add_argument('--epochs', type=int, default=10, metavar='E', help='number of epochs to train (default: 10)')\n",
    "parser.add_argument('--lr', type=float, default=0.01, metavar='LR', help='learning rate (default: 0.01)')\n",
    "parser.add_argument('--data_dir', type=str, default='../../processed_data/', metavar='F', help='Where to locate data')\n",
    "parser.add_argument('--loss', type=str, default='l1', metavar='LOSS', help='l1, mse')\n",
    "args = parser.parse_args()"
   ]
  },
  {
   "cell_type": "code",
   "execution_count": 70,
   "metadata": {
    "collapsed": false
   },
   "outputs": [],
   "source": [
    "class PairedTissueDataset(torch.utils.data.Dataset):\n",
    "    def __init__(self, df_1, df_2, labels):\n",
    "        self.df_1 = df_1\n",
    "        self.df_2 = df_2\n",
    "        self.labels = labels\n",
    "\n",
    "    def __len__(self):\n",
    "        return len(self.df_1)\n",
    "\n",
    "    def __getitem__(self, idx):\n",
    "        instance_name = self.df_1.iloc[idx].name\n",
    "        label = int(self.labels.loc[instance_name])\n",
    "        label = torch.Tensor([label])\n",
    "        instance_1 = torch.Tensor(self.df_1.loc[instance_name])\n",
    "        instance_2 = torch.Tensor(self.df_2.loc[instance_name])\n",
    "        return (instance_1, instance_2, label)\n",
    "\n",
    "labels = pd.read_csv(\"../../processed_data/labels.csv\", index_col=0)\n",
    "    \n",
    "full_data = DataLoader(PairedTissueDataset(pd.read_csv(\"../../processed_data/full_muscle.csv\", index_col=0), \n",
    "                                           pd.read_csv(\"../../processed_data/full_thyroid.csv\", index_col=0), labels), \n",
    "                       batch_size=args.batch_size, shuffle=True) \n",
    "\n",
    "train_data = DataLoader(PairedTissueDataset(pd.read_csv(\"../../processed_data/train_muscle.csv\", index_col=0), \n",
    "                                            pd.read_csv(\"../../processed_data/train_thyroid.csv\", index_col=0), labels), \n",
    "                        batch_size=args.batch_size, shuffle=True) \n",
    "\n",
    "test_data = DataLoader(PairedTissueDataset(pd.read_csv(\"../../processed_data/test_muscle.csv\", index_col=0), \n",
    "                                           pd.read_csv(\"../../processed_data/test_thyroid.csv\", index_col=0), labels), \n",
    "                       batch_size=args.batch_size, shuffle=True) \n",
    "\n",
    "\n"
   ]
  }
 ],
 "metadata": {
  "kernelspec": {
   "display_name": "Python 3",
   "language": "python",
   "name": "python3"
  },
  "language_info": {
   "codemirror_mode": {
    "name": "ipython",
    "version": 3
   },
   "file_extension": ".py",
   "mimetype": "text/x-python",
   "name": "python",
   "nbconvert_exporter": "python",
   "pygments_lexer": "ipython3",
   "version": "3.6.5"
  }
 },
 "nbformat": 4,
 "nbformat_minor": 2
}
