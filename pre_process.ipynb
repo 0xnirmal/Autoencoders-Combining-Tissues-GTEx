{
 "cells": [
  {
   "cell_type": "markdown",
   "metadata": {},
   "source": [
    "## Pre-processing\n",
    "Reads (currently) muscle and thryoid expression matrices, cleans them, train-test split (80-20), grabs top-1000 genes (univariate correlations in training) with label (age)"
   ]
  },
  {
   "cell_type": "code",
   "execution_count": 40,
   "metadata": {
    "collapsed": true
   },
   "outputs": [],
   "source": [
    "import numpy as np\n",
    "import pandas as pd\n",
    "import sys\n",
    "import argparse\n",
    "import matplotlib.pyplot as plt \n",
    "%matplotlib inline\n",
    "plt.style.use('ggplot')\n",
    "from sklearn import linear_model\n",
    "from sklearn.model_selection import train_test_split\n",
    "import os\n",
    "from sklearn.feature_selection import SelectKBest, f_regression, VarianceThreshold\n",
    "from sklearn.metrics import mean_squared_error\n",
    "import math\n",
    "cur_path = os.getcwd()"
   ]
  },
  {
   "cell_type": "code",
   "execution_count": 52,
   "metadata": {
    "collapsed": false
   },
   "outputs": [],
   "source": [
    "parser = argparse.ArgumentParser(description='Process display arguments')\n",
    "parser.add_argument(\"-f\", \"--jupyter-json\")\n",
    "parser.add_argument(\"-muscle-file\", \"--muscle-file\", default=cur_path+\"/data/GTEx_Analysis_v7_eQTL_expression_matrices/Muscle_Skeletal.v7.normalized_expression.bed\")\n",
    "parser.add_argument(\"-thyroid-file\", \"--thyroid-file\", default=cur_path+\"/data/GTEx_Analysis_v7_eQTL_expression_matrices/Thyroid.v7.normalized_expression.bed\")\n",
    "parser.add_argument(\"-label-file\", \"--label-file\", default=cur_path+\"/data/GTEx_v7_Annotations_SubjectPhenotypesDS.txt\")\n",
    "parser.add_argument(\"-output-dir\", \"--output-dir\", default=cur_path+\"/processed_data\")\n",
    "parser.add_argument(\"-phenotypes-file\", \"--phenotypes-file\", default=cur_path+\"/data/GTEx_v7_Annotations_SubjectPhenotypesDS.txt\")\n",
    "args = parser.parse_args()\n",
    "if not os.path.exists(args.output_dir):\n",
    "    os.mkdir(outdir)"
   ]
  },
  {
   "cell_type": "code",
   "execution_count": 42,
   "metadata": {
    "collapsed": false
   },
   "outputs": [],
   "source": [
    "def gen_matrix(file_path):\n",
    "    df = pd.read_csv(file_path, header=0, sep='\\t', dtype=str)\n",
    "    df.drop([\"#chr\", \"start\", \"end\"], axis=1, inplace=True)\n",
    "    df.set_index(\"gene_id\", inplace=True)\n",
    "    df = df.transpose()\n",
    "    df.columns.name = None\n",
    "    return df.apply(pd.to_numeric)\n",
    "\n",
    "muscle_df = gen_matrix(args.muscle_file)\n",
    "thyroid_df = gen_matrix(args.thyroid_file)"
   ]
  },
  {
   "cell_type": "code",
   "execution_count": 19,
   "metadata": {
    "collapsed": false
   },
   "outputs": [],
   "source": [
    "inter_instances = list(set(muscle_df.index)  & set(thyroid_df.index))\n",
    "inter_features = list(set(muscle_df.columns)  & set(thyroid_df.columns))\n",
    "muscle_df = muscle_df[inter_features].loc[inter_instances]\n",
    "thyroid_df = thyroid_df[inter_features].loc[inter_instances]"
   ]
  },
  {
   "cell_type": "code",
   "execution_count": 46,
   "metadata": {
    "collapsed": false
   },
   "outputs": [],
   "source": [
    "train_muscle, test_muscle = train_test_split(muscle_df, test_size=0.2, shuffle=False)\n",
    "train_thyroid, test_thyroid = train_test_split(thyroid_df, test_size=0.2, shuffle=False)"
   ]
  },
  {
   "cell_type": "code",
   "execution_count": 71,
   "metadata": {
    "collapsed": false
   },
   "outputs": [],
   "source": [
    "labels = pd.read_csv(args.phenotypes_file, header=0, sep='\\t', dtype=str)\n",
    "labels = labels.set_index(\"SUBJID\").drop([\"SEX\", \"DTHHRDY\"], axis=1)\n",
    "labels.index.name = None\n",
    "labels[\"AGE\"] = labels[\"AGE\"].apply(lambda x: int(x[0:1]))\n",
    "labels = labels.loc[inter_instances]"
   ]
  },
  {
   "cell_type": "code",
   "execution_count": 146,
   "metadata": {
    "collapsed": false
   },
   "outputs": [],
   "source": [
    "def select_features(train_x, train_y):\n",
    "    selector = SelectKBest(f_regression, k=517)\n",
    "    selector.fit(train_x, train_y.values.ravel())\n",
    "    col_indices = selector.get_support(indices=True)\n",
    "    return col_indices\n",
    "\n",
    "muscle_features = select_features(train_muscle, labels.loc[train_muscle.index])\n",
    "thyroid_features = select_features(train_thyroid, labels.loc[train_thyroid.index])\n",
    "f_features = list(set(muscle_features) | set(thyroid_features))"
   ]
  },
  {
   "cell_type": "code",
   "execution_count": 153,
   "metadata": {
    "collapsed": false
   },
   "outputs": [],
   "source": [
    "muscle_df[muscle_df.columns[f_features]].to_csv(outdir + \"/full_muscle.csv\")\n",
    "train_muscle[train_muscle.columns[f_features]].to_csv(outdir + \"/train_muscle.csv\")\n",
    "test_muscle[test_muscle.columns[f_features]].to_csv(outdir + \"/test_muscle.csv\")\n",
    "\n",
    "thyroid_df[thyroid_df.columns[f_features]].to_csv(outdir + \"/full_thyroid.csv\")\n",
    "train_thyroid[train_thyroid.columns[f_features]].to_csv(outdir + \"/train_thyroid.csv\")\n",
    "test_thyroid[test_thyroid.columns[f_features]].to_csv(outdir + \"/test_thyroid.csv\")\n",
    "\n",
    "labels.to_csv(outdir + \"/labels.csv\")"
   ]
  }
 ],
 "metadata": {
  "kernelspec": {
   "display_name": "Python 3",
   "language": "python",
   "name": "python3"
  },
  "language_info": {
   "codemirror_mode": {
    "name": "ipython",
    "version": 3
   },
   "file_extension": ".py",
   "mimetype": "text/x-python",
   "name": "python",
   "nbconvert_exporter": "python",
   "pygments_lexer": "ipython3",
   "version": "3.6.5"
  }
 },
 "nbformat": 4,
 "nbformat_minor": 2
}
